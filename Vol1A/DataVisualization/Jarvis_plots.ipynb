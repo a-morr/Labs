{
 "cells": [
  {
   "cell_type": "code",
   "execution_count": 1,
   "metadata": {
    "collapsed": true
   },
   "outputs": [],
   "source": [
    "import numpy as np\n",
    "from numpy.random import randn\n",
    "import matplotlib.mlab as mlab\n",
    "from matplotlib import pyplot as plt\n",
    "from matplotlib.lines import Line2D\n",
    "from numpy.polynomial import Chebyshev as T"
   ]
  },
  {
   "cell_type": "code",
   "execution_count": 2,
   "metadata": {
    "collapsed": false
   },
   "outputs": [],
   "source": [
    "# line plot\n",
    "def linePlot(save=False):\n",
    "    x = np.linspace(0,100,1000)\n",
    "    y = x**2*np.sin(x)\n",
    "    plt.plot(x,y,linewidth=3)\n",
    "    if(save==False):\n",
    "        plt.show()\n",
    "    else:\n",
    "        plt.title(\"Line plot\")\n",
    "        plt.savefig(\"line_plot.png\")\n",
    "        plt.close()\n",
    "#linePlot()"
   ]
  },
  {
   "cell_type": "code",
   "execution_count": 3,
   "metadata": {
    "collapsed": false
   },
   "outputs": [],
   "source": [
    "# log plot\n",
    "def logPlot(save=False):\n",
    "    x = np.linspace(10,1000)\n",
    "    plt.semilogy(x,x**5,'g')\n",
    "    plt.semilogy(x,x**4,'r')\n",
    "    if(save==False):\n",
    "        plt.show()\n",
    "    else:\n",
    "        plt.title(\"log Plot\")\n",
    "        plt.savefig(\"log_plot.png\")\n",
    "        plt.close()"
   ]
  },
  {
   "cell_type": "code",
   "execution_count": 4,
   "metadata": {
    "collapsed": true
   },
   "outputs": [],
   "source": [
    "# lin-lin plot\n",
    "def linlinPlot(save=False):\n",
    "    x = np.linspace(10,1000)\n",
    "    plt.plot(x,x**5,'g',lw=3)\n",
    "    if(save==False):\n",
    "        plt.show()\n",
    "    else:\n",
    "        plt.title(\"lin-lin plot\")\n",
    "        plt.savefig(\"lin_lin_plot.png\")\n",
    "        plt.close()\n"
   ]
  },
  {
   "cell_type": "code",
   "execution_count": 5,
   "metadata": {
    "collapsed": false
   },
   "outputs": [],
   "source": [
    "# bar graph\n",
    "def barChart_vertical(save=False):\n",
    "    data = {'Spam':22, 'Eggs':21, 'Ham':20, 'Sausage':19, 'Bacon':18, 'Baked beans':10,'Lobster thermidor':11}\n",
    "    val = list(data.itervalues()) # the bar lengths\n",
    "    labels = list(data.iterkeys()) # the labels for each bar\n",
    "    pos = np.arange(7)+.5    # the bar centers on the y axis\n",
    "    plt.figure(1)\n",
    "    plt.bar(pos,val,align='center')\n",
    "    plt.xticks(pos,labels[::-1],rotation='vertical')\n",
    "    plt.yticks([])\n",
    "    if(save==False):\n",
    "        plt.show()\n",
    "    else:\n",
    "        plt.title(\"Vertical, unsorted bar chart\")\n",
    "        plt.savefig(\"bar_chart_vertical_unsorted.png\")\n",
    "        plt.close()\n"
   ]
  },
  {
   "cell_type": "code",
   "execution_count": 6,
   "metadata": {
    "collapsed": false
   },
   "outputs": [],
   "source": [
    "# dot plot TODO\n",
    "def dotPlot(save=False):\n",
    "    data = {'Spam':22, 'Eggs':21, 'Ham':20, 'Sausage':19, 'Bacon':18, 'Baked beans':10,'Lobster thermidor':11}\n",
    "    val = list(data.itervalues()) # the bar lengths\n",
    "    labels = list(data.iterkeys()) # the labels for each bar\n",
    "    pos = np.arange(7)+.5    # the bar centers on the y axis\n",
    "    plt.figure(1)\n",
    "    plt.plot(pos,val, align='center')\n",
    "    plt.xticks(pos, labels[::-1],rotation='vertical')\n",
    "    plt.yticks([])\n",
    "    if(save==False):\n",
    "        plt.show()\n",
    "    else:\n",
    "        plt.title(\"Dot plot\")\n",
    "        plt.savefig(\"dot_plot.png\")\n",
    "        plt.close()\n"
   ]
  },
  {
   "cell_type": "code",
   "execution_count": 2,
   "metadata": {
    "collapsed": false
   },
   "outputs": [],
   "source": [
    "# histogram\n",
    "def histogram(save=False):\n",
    "    data = randn(75)+randn(75)+randn(75) + randn(75)\n",
    "    plt.hist(data)\n",
    "    if(save==False):\n",
    "        plt.show()\n",
    "    else:\n",
    "        plt.title(\"Histogram\")\n",
    "        plt.savefig(\"histogram.png\")\n",
    "        plt.close()\n",
    "        \n",
    "    plt.hist(data)\n",
    "    plt.grid(True, color = 'w', linestyle = '-')\n",
    "    if(save==False):\n",
    "        plt.show()\n",
    "    else:\n",
    "        plt.title(\"Histogram with reference lines\")\n",
    "        plt.savefig(\"histogram_referenceLines.png\")\n",
    "        plt.close()\n",
    "\n",
    "    x = np.arange(75)\n",
    "    plt.plot(x, data, lw = 1)\n",
    "    if (save == False):\n",
    "        plt.show()\n",
    "    else:\n",
    "        plt.title(\"Line plot with random data and lw=1\")\n",
    "        plt.savefig(\"line_plot_bad_thin\")\n",
    "    \n",
    "    plt.plot(x, data, lw = 2)\n",
    "    if (save == False):\n",
    "        plt.show()\n",
    "    else:\n",
    "        plt.title(\"Line plot with random data and lw=2\")\n",
    "        plt.savefig(\"line_plot_good\")\n",
    "\n",
    "histogram(save=True)"
   ]
  },
  {
   "cell_type": "code",
   "execution_count": 8,
   "metadata": {
    "collapsed": false
   },
   "outputs": [],
   "source": [
    "# histogram with best fit line\n",
    "def histogramFancy(save=False):\n",
    "    mu, sigma = 100, 15\n",
    "    x = mu + sigma*np.random.randn(10000)\n",
    "\n",
    "    # the histogram of the data\n",
    "    n, bins, patches = plt.hist(x, 50, normed=1, edgecolor='none',facecolor='green',alpha=.5)\n",
    "\n",
    "    # add a 'best fit' line\n",
    "    y = mlab.normpdf( bins, mu, sigma)\n",
    "    #l = plt.plot(bins, y, 'r--', linewidth=1)\n",
    "\n",
    "    #plt.xlabel('Smarts')\n",
    "    #plt.ylabel('Probability')\n",
    "    #plt.title(r'$\\mathrm{Histogram\\ of\\ IQ:}\\ \\mu=100,\\ \\sigma=15$')\n",
    "    #plt.axis([40, 160, 0, 0.03])\n",
    "    plt.grid(True, color='w',linestyle='-')\n",
    "    if(save==False):\n",
    "        plt.show()\n",
    "    else:\n",
    "        plt.title(\"Histogram\")\n",
    "        plt.savefig(\"histogram_fancy.png\")\n",
    "        plt.close()\n"
   ]
  },
  {
   "cell_type": "code",
   "execution_count": 9,
   "metadata": {
    "collapsed": true
   },
   "outputs": [],
   "source": [
    "# scatter plot\n",
    "def scatterPlot(save=False):\n",
    "    x = np.random.rand(100)\n",
    "    y = 2*np.random.rand(100) + x - 1\n",
    "    plt.scatter(x,y)\n",
    "    plt.xlim(0,1)\n",
    "    plt.ylim(-1,2)\n",
    "    if(save==False):\n",
    "        plt.show()\n",
    "    else:\n",
    "        plt.title(\"Scatter plot\")\n",
    "        plt.savefig(\"scatter_plot.png\")\n",
    "        plt.close()\n"
   ]
  },
  {
   "cell_type": "code",
   "execution_count": 10,
   "metadata": {
    "collapsed": true
   },
   "outputs": [],
   "source": [
    "# dual scatter plot\n",
    "def dualscatterPlot(save=False):\n",
    "    x1 = np.random.rand(30)\n",
    "    x2 = np.random.rand(30)\n",
    "    y1 = 2*np.random.rand(30) + x1 - 1\n",
    "    y2 = 2*np.random.rand(30) - x2 - 1\n",
    "    plt.scatter(x1,y1,color='r')\n",
    "    plt.scatter(x2,y2,color='g')\n",
    "    plt.xlim(0,1)\n",
    "    plt.ylim(-1,2)\n",
    "    if(save==False):\n",
    "        plt.show()\n",
    "    else:\n",
    "        plt.title(\"Dual scatter plot\")\n",
    "        plt.savefig(\"scatter_dual_plot.png\")\n",
    "        plt.close()\n"
   ]
  },
  {
   "cell_type": "code",
   "execution_count": 11,
   "metadata": {
    "collapsed": true
   },
   "outputs": [],
   "source": [
    "# contour map basic\n",
    "def contourMap(save=False):\n",
    "    n=400\n",
    "    x = np.linspace(-1.5,1.5,n)\n",
    "    y = np.linspace(-1.5,1.5,n)\n",
    "    X, Y = np.meshgrid(x,y)\n",
    "    F = Y**2 - X**3 + X**2\n",
    "    plt.contour(X, Y, F, [-2,-1,0.0001,1,2,3,4,5] ,linewidths=3.0,cmap=plt.get_cmap('Blues'))\n",
    "    if(save==False):\n",
    "        plt.show()\n",
    "    else:\n",
    "        plt.title(\"Contour map\")\n",
    "        plt.savefig(\"contour_map.png\")\n",
    "        plt.close()\n"
   ]
  },
  {
   "cell_type": "code",
   "execution_count": 12,
   "metadata": {
    "collapsed": true
   },
   "outputs": [],
   "source": [
    "# filled contour map\n",
    "def contourMap_filled(save=False):\n",
    "    n=400\n",
    "    xrange = np.linspace(-1.5,1.5,n)\n",
    "    yrange = np.linspace(-1.5,1.5,n)\n",
    "    X, Y = np.meshgrid(xrange,yrange)\n",
    "    F = Y**2 - X**3 + X**2\n",
    "    plt.contourf(X, Y, F, [-2,-1,0.0001,1,2,3,4,5] ,cmap=plt.get_cmap('afmhot'))\n",
    "    if(save==False):\n",
    "        plt.show()\n",
    "    else:\n",
    "        plt.title(\"Filled contour map\")\n",
    "        plt.savefig(\"contour_map_filled.png\")\n",
    "        plt.close()\n"
   ]
  },
  {
   "cell_type": "code",
   "execution_count": 13,
   "metadata": {
    "collapsed": true
   },
   "outputs": [],
   "source": [
    "# rainbow filled contour map\n",
    "def contourMap_rainbowFilled(save=False):\n",
    "    n=400\n",
    "    xrange = np.linspace(-1.5,1.5,n)\n",
    "    yrange = np.linspace(-1.5,1.5,n)\n",
    "    X, Y = np.meshgrid(xrange,yrange)\n",
    "    F = Y**2 - X**3 + X**2\n",
    "    plt.contourf(X, Y, F, [-2,-1,0.0001,1,2,3,4,5])\n",
    "    if(save==False):\n",
    "        plt.show()\n",
    "    else:\n",
    "        plt.title(\"Rainbow filled contour map\")\n",
    "        plt.savefig(\"contour_map_rainbow_filled.png\")\n",
    "        plt.close()\n"
   ]
  },
  {
   "cell_type": "code",
   "execution_count": 14,
   "metadata": {
    "collapsed": true
   },
   "outputs": [],
   "source": [
    "# rainbow outline contour map\n",
    "def contourMap_rainbow(save=False):\n",
    "    n=400\n",
    "    xrange = np.linspace(-1.5,1.5,n)\n",
    "    yrange = np.linspace(-1.5,1.5,n)\n",
    "    X, Y = np.meshgrid(xrange,yrange)\n",
    "    F = Y**2 - X**3 + X**2\n",
    "    plt.contour(X, Y, F, [-2,-1,0.0001,1,2,3,4,5] ,linewidths=3.0)\n",
    "    if(save==False):\n",
    "        plt.show()\n",
    "    else:\n",
    "        plt.title(\"Rainbow contour map\")\n",
    "        plt.savefig(\"contour_map_rainbow.png\")\n",
    "        plt.close()\n"
   ]
  },
  {
   "cell_type": "code",
   "execution_count": 15,
   "metadata": {
    "collapsed": true
   },
   "outputs": [],
   "source": [
    "# hue\n",
    "def hue(save=False):\n",
    "    from matplotlib.colors import from_levels_and_colors\n",
    "    cmap, norm = from_levels_and_colors(range(8), ['black','darkviolet','blue','green', 'yellow','orange', 'red'])\n",
    "\n",
    "    plt.figure(figsize=(10, 0.5))\n",
    "    np.random.seed(10)\n",
    "    plt.pcolormesh(np.arange(7).reshape(1, -1),cmap=cmap, norm=norm) \n",
    "    ax = plt.gca() \n",
    "    ax.yaxis.set_visible(False) \n",
    "    ax.xaxis.set_visible(False) \n",
    "    ax.autoscale_view(tight=True)\n",
    "    if(save==False):\n",
    "        plt.show()\n",
    "    else:\n",
    "        plt.title(\"Hue\")\n",
    "        plt.savefig(\"hue.png\")\n",
    "        plt.close()\n"
   ]
  },
  {
   "cell_type": "code",
   "execution_count": 16,
   "metadata": {
    "collapsed": true
   },
   "outputs": [],
   "source": [
    "# color value\n",
    "def colorValue(save=False):\n",
    "    plt.figure(figsize=(10, 0.5))\n",
    "    plt.pcolormesh(np.arange(8).reshape(1, -1),cmap='Greens') \n",
    "    ax = plt.gca() \n",
    "    ax.yaxis.set_visible(False) \n",
    "    ax.xaxis.set_visible(False) \n",
    "    ax.autoscale_view(tight=True)\n",
    "    if(save==False):\n",
    "        plt.show()\n",
    "    else:\n",
    "        plt.title(\"Color value\")\n",
    "        plt.savefig(\"color_value.png\")\n",
    "        plt.close()\n"
   ]
  },
  {
   "cell_type": "code",
   "execution_count": 17,
   "metadata": {
    "collapsed": true
   },
   "outputs": [],
   "source": [
    "# example of a color map\n",
    "def colorMap(save=False):\n",
    "    plt.figure(figsize=(10, 0.5))\n",
    "    plt.pcolormesh(np.arange(8).reshape(1, -1),cmap='afmhot') \n",
    "    ax = plt.gca() \n",
    "    ax.yaxis.set_visible(False) \n",
    "    ax.xaxis.set_visible(False) \n",
    "    ax.autoscale_view(tight=True)\n",
    "    if(save==False):\n",
    "        plt.show()\n",
    "    else:\n",
    "        plt.title(\"Color map\")\n",
    "        plt.savefig(\"color_map.png\")\n",
    "        plt.close()\n"
   ]
  },
  {
   "cell_type": "code",
   "execution_count": 18,
   "metadata": {
    "collapsed": true
   },
   "outputs": [],
   "source": [
    "# perception error: varying bases\n",
    "def PE_varyingBases(save=False):\n",
    "    x = np.linspace(0,10, 500)\n",
    "    y = x**2\n",
    "    plt.plot(x,y)\n",
    "    plt.plot(x,y+20)\n",
    "    fig = plt.gcf()\n",
    "    fig.set_size_inches(5,7)\n",
    "    if(save==False):\n",
    "        plt.show()\n",
    "    else:\n",
    "        plt.title(\"Perception error: varying bases\")\n",
    "        plt.savefig(\"PE_varying_bases.png\")\n",
    "        plt.close()\n",
    "PE_varyingBases(save=True)"
   ]
  },
  {
   "cell_type": "code",
   "execution_count": null,
   "metadata": {
    "collapsed": true
   },
   "outputs": [],
   "source": [
    "# perception error: problematic area\n",
    "def PE_problematic_area(save=False):\n",
    "    circle1=plt.Circle((0.2,0.2),.1,color='r')\n",
    "    circle2=plt.Circle((.2,.6),.1*np.sqrt(2),color='b')\n",
    "    circle3=plt.Circle((.6,.3),.2,color='g',clip_on=False)\n",
    "    fig = plt.gcf()\n",
    "    fig.gca().set_aspect('equal')\n",
    "    fig.gca().add_artist(circle1)\n",
    "    #fig.gca().add_artist(circle2)\n",
    "    fig.gca().add_artist(circle3)\n",
    "    plt.axis('off')\n",
    "\n",
    "    if(save==False):\n",
    "        plt.show()\n",
    "    else:\n",
    "        plt.title(\"Perception error: problematic area\")\n",
    "        plt.savefig(\"PE_problematic_area.png\")\n",
    "        plt.close()\n"
   ]
  },
  {
   "cell_type": "code",
   "execution_count": null,
   "metadata": {
    "collapsed": false
   },
   "outputs": [],
   "source": [
    "# 3-d pie chart\n",
    "# The slices will be ordered and plotted counter-clockwise.\n",
    "def pie3d(save=False):\n",
    "    labels = 'Spam', 'Eggs', 'Ham', 'Sausage', 'Bacon', 'Baked beans','Lobster thermidor'\n",
    "    fracs = range(22,15,-1)\n",
    "    fracs[-1]=10\n",
    "    fracs[-2]=11\n",
    "    #colors = ['yellowgreen', 'gold', 'lightskyblue', 'lightcoral']\n",
    "    explode = (0, 0, 0, 0, 0, 0.1, 0.1) # only \"explode\" the 2nd slice (i.e. 'Hogs')\n",
    "\n",
    "    plt.pie(fracs, explode=explode, labels=labels, shadow=True, startangle=0)\n",
    "    # Set aspect ratio to be equal so that pie is drawn as a circle.\n",
    "    plt.axis('equal')\n",
    "\n",
    "    if(save==False):\n",
    "        plt.show()\n",
    "    else:\n",
    "        #plt.title(\"Pie chart\")\n",
    "        plt.savefig(\"pie_chart3d.png\")\n",
    "        plt.close()\n",
    "        \n",
    "pie3d()\n"
   ]
  },
  {
   "cell_type": "code",
   "execution_count": null,
   "metadata": {
    "collapsed": false
   },
   "outputs": [],
   "source": [
    "# pie chart\n",
    "def pieChart(save=False):\n",
    "    # make a square figure and axes\n",
    "    plt.figure(1, figsize=(6,6))\n",
    "    ax = plt.axes([0.1, 0.1, 0.8, 0.8])\n",
    "\n",
    "    # The slices will be ordered and plotted counter-clockwise.\n",
    "    labels = 'Spam', 'Eggs', 'Ham', 'Sausage', 'Bacon', 'Baked beans','Lobster thermidor'\n",
    "    fracs = range(22,15,-1)\n",
    "    fracs[-1]=10\n",
    "    fracs[-2]=11\n",
    "\n",
    "    data = zip(labels,fracs)\n",
    "    #print data\n",
    "    ##Rearrange the slices and labels\n",
    "    r = [0,6,1,4,2,5,3]\n",
    "    rfracs = [fracs[x] for x in r]\n",
    "    rlabels = [labels[x] for x in r]\n",
    "    ##end rearrange\n",
    "    #explode=(0, 0, 0, 0)\n",
    "    wedges, texts = plt.pie(rfracs,labels=rlabels)\n",
    "    #pie(fracs, explode=explode, labels=labels,\n",
    "    #                autopct='%1.1f%%', shadow=True, startangle=90)\n",
    "                    # The default startangle is 0, which would start\n",
    "                    # the Frogs slice on the x-axis.  With startangle=90,\n",
    "                    # everything is rotated counter-clockwise by 90 degrees,\n",
    "                    # so the plotting starts on the positive y-axis.\n",
    "\n",
    "\n",
    "    for w in wedges:\n",
    "        w.set_linewidth( 0 )\n",
    "        w.set_edgecolor( 'none' )\n",
    "    plt.title(\"Which is greater: lobster or beans?\")\n",
    "    if(save==False):\n",
    "        plt.show()\n",
    "    else:\n",
    "        #plt.title(\"Pie chart\")\n",
    "        plt.savefig(\"pie_chart.png\")\n",
    "        plt.close()\n"
   ]
  },
  {
   "cell_type": "code",
   "execution_count": 16,
   "metadata": {
    "collapsed": false
   },
   "outputs": [],
   "source": [
    "# pie chart sorted\n",
    "def pieChart_sorted(save=False):\n",
    "    # make a square figure and axes\n",
    "    plt.figure(1, figsize=(6,6))\n",
    "    ax = plt.axes([0.1, 0.1, 0.8, 0.8])\n",
    "\n",
    "    # The slices will be ordered and plotted counter-clockwise.\n",
    "    labels = 'Spam', 'Eggs', 'Ham', 'Sausage', 'Bacon', 'Baked beans','Lobster thermidor'\n",
    "    fracs = range(22,15,-1)\n",
    "    fracs[-1]=10\n",
    "    fracs[-2]=11\n",
    "\n",
    "    data = zip(labels,fracs)\n",
    "    #print data\n",
    "    ##Rearrange the slices and labels\n",
    "    r = [0,6,1,4,2,5,3]\n",
    "    rfracs = [fracs[x] for x in r]\n",
    "    rlabels = [labels[x] for x in r]\n",
    "    ##end rearrange\n",
    "    \n",
    "    wedges, texts = plt.pie(fracs,labels=labels)\n",
    "    #pie(fracs, explode=explode, labels=labels,\n",
    "    #                autopct='%1.1f%%', shadow=True, startangle=90)\n",
    "                    # The default startangle is 0, which would start\n",
    "                    # the Frogs slice on the x-axis.  With startangle=90,\n",
    "                    # everything is rotated counter-clockwise by 90 degrees,\n",
    "                    # so the plotting starts on the positive y-axis.\n",
    "\n",
    "    for w in wedges:\n",
    "        w.set_linewidth( 0 )\n",
    "        w.set_edgecolor( 'none' )\n",
    "                \n",
    "    plt.title('Which is greater: lobster or beans?')\n",
    "\n",
    "    if(save==False):\n",
    "        plt.show()\n",
    "    else:\n",
    "        #plt.title(\"Pie chart sorted\")\n",
    "        plt.savefig(\"pie_chart_sorted.png\",bbox_inches='tight')\n",
    "        plt.close()\n",
    "pieChart_sorted(save=True)"
   ]
  },
  {
   "cell_type": "code",
   "execution_count": 8,
   "metadata": {
    "collapsed": false
   },
   "outputs": [],
   "source": [
    "# bar chart\n",
    "def barChart_horizontal_sorted(save=False):\n",
    "    # The slices will be ordered and plotted counter-clockwise.\n",
    "    labels = 'Spam', 'Eggs', 'Ham', 'Sausage', 'Bacon', 'Baked beans','Lobster thermidor'\n",
    "    fracs = range(22,15,-1)\n",
    "    fracs[-1]=10\n",
    "    fracs[-2]=11\n",
    "    \n",
    "    val = fracs[::-1]    # the bar lengths\n",
    "    pos = np.arange(7)+.5    # the bar centers on the y axis\n",
    "\n",
    "    plt.figure(1)\n",
    "    plt.barh(pos,val, align='center')\n",
    "    plt.yticks(pos, labels[::-1])\n",
    "    plt.xticks([])\n",
    "    plt.title('More lobster or beans?')\n",
    "    plt.grid(False)\n",
    "    if(save==False):\n",
    "        plt.tight_layout()\n",
    "        plt.title(\"Bar chart\")\n",
    "        plt.show()\n",
    "    else:\n",
    "        plt.title(\"Bar chart\")\n",
    "        plt.tight_layout()\n",
    "        plt.savefig(\"bar_chart_horizontal_sorted.png\")\n",
    "        plt.close()\n",
    "barChart_horizontal_sorted(True)"
   ]
  },
  {
   "cell_type": "code",
   "execution_count": null,
   "metadata": {
    "collapsed": true
   },
   "outputs": [],
   "source": []
  },
  {
   "cell_type": "code",
   "execution_count": 13,
   "metadata": {
    "collapsed": false
   },
   "outputs": [],
   "source": [
    "# bar chart unsorted\n",
    "def barChart_horizontal_unsorted(save=False):\n",
    "    # The slices will be ordered and plotted counter-clockwise.\n",
    "    labels = 'Spam', 'Eggs', 'Ham', 'Sausage', 'Bacon', 'Baked beans','Lobster thermidor'\n",
    "    fracs = range(22,15,-1)\n",
    "    fracs[-1]=10\n",
    "    fracs[-2]=11\n",
    "    \n",
    "    val = fracs[::-1]    # the bar lengths\n",
    "    pos = np.arange(7)+.5    # the bar centers on the y axis\n",
    "    \n",
    "    data = zip(labels,fracs)\n",
    "    #print data\n",
    "    ##Rearrange the slices and labels\n",
    "    r = [0,6,1,4,2,5,3]\n",
    "    rfracs = [fracs[x] for x in r]\n",
    "    rlabels = [labels[x] for x in r]\n",
    "    ##end rearrange\n",
    "    \n",
    "    plt.figure(1)\n",
    "    plt.barh(pos,rfracs, align='center')\n",
    "    plt.yticks(pos, rlabels)\n",
    "    plt.xticks([])\n",
    "\n",
    "    plt.title('Unsorted bar chart')\n",
    "    plt.grid(False)\n",
    "    \n",
    "    \n",
    "    if(save==False):\n",
    "        plt.show()\n",
    "    else:\n",
    "        #plt.title(\"\")\n",
    "        plt.tight_layout()\n",
    "        plt.savefig(\"bar_chart_unsorted.png\")\n",
    "        plt.close()\n",
    "barChart_horizontal_unsorted(save=True)"
   ]
  },
  {
   "cell_type": "raw",
   "metadata": {},
   "source": []
  },
  {
   "cell_type": "code",
   "execution_count": null,
   "metadata": {
    "collapsed": true
   },
   "outputs": [],
   "source": []
  },
  {
   "cell_type": "code",
   "execution_count": null,
   "metadata": {
    "collapsed": true
   },
   "outputs": [],
   "source": [
    "# bar chart vertical\n",
    "def barChart_verticalBars_horizontalLabels(save=False):\n",
    "    # The slices will be ordered and plotted counter-clockwise.\n",
    "    labels = 'Spam', 'Eggs', 'Ham', 'Sausage', 'Bacon', 'Baked beans','Lobster thermidor'\n",
    "    fracs = range(22,15,-1)\n",
    "    fracs[-1]=10\n",
    "    fracs[-2]=11\n",
    "    \n",
    "    val = fracs[::-1]    # the bar lengths\n",
    "    pos = np.arange(7)+.5    # the bar centers on the y axis\n",
    "    plt.figure(1)\n",
    "    plt.bar(pos,val, align='center')\n",
    "    plt.xticks(pos, labels[::-1])\n",
    "    plt.yticks([])\n",
    "    #plt.title('spam, lobster, and beans')\n",
    "\n",
    "    plt.grid(False)\n",
    "    \n",
    "    if(save==False):\n",
    "        plt.show()\n",
    "    else:\n",
    "        plt.title(\"Vertical bar chart with horizontal labels\")\n",
    "        plt.savefig(\"bar_chart_vertical_bars_horizontal_labels.png\")\n",
    "        plt.close()\n"
   ]
  },
  {
   "cell_type": "code",
   "execution_count": 11,
   "metadata": {
    "collapsed": true
   },
   "outputs": [],
   "source": [
    "# bar chart with vertical labels\n",
    "def barChart_verticalBars_verticalLabels(save=False):\n",
    "    # The slices will be ordered and plotted counter-clockwise.\n",
    "    labels = 'Spam', 'Eggs', 'Ham', 'Sausage', 'Bacon', 'Baked beans','Lobster thermidor'\n",
    "    fracs = range(22,15,-1)\n",
    "    fracs[-1]=10\n",
    "    fracs[-2]=11\n",
    "    \n",
    "    val = fracs[::-1]    # the bar lengths\n",
    "    pos = np.arange(7)+.5    # the bar centers on the y axis\n",
    "    \n",
    "    plt.figure(1)\n",
    "    plt.bar(pos,val, align='center')\n",
    "    plt.xticks(pos, labels[::-1],rotation='vertical')\n",
    "    plt.yticks([])\n",
    "    #plt.title('spam, lobster, and beans')\n",
    "\n",
    "    plt.grid(False)\n",
    "    if(save==False):\n",
    "        plt.show()\n",
    "    else:\n",
    "        plt.title(\"Vertical bar chart with vertical labels\")\n",
    "        plt.tight_layout()\n",
    "        plt.savefig(\"bar_chart_vertical_bars_vertical_labels.png\")\n",
    "        plt.close()\n",
    "barChart_verticalBars_verticalLabels(save=True)"
   ]
  },
  {
   "cell_type": "code",
   "execution_count": null,
   "metadata": {
    "collapsed": true
   },
   "outputs": [],
   "source": [
    "# lots of small multiple images\n",
    "def multiples(save=False):\n",
    "    t = np.arange(0.0, 1.0, 0.1)\n",
    "    s = np.sin(2*np.pi*t)\n",
    "    linestyles = ['_', '-', '--', ':']\n",
    "    markers = []\n",
    "    for m in Line2D.markers:\n",
    "        try:\n",
    "            if len(m) == 1 and m != ' ':\n",
    "                markers.append(m)\n",
    "        except TypeError:\n",
    "            pass\n",
    "\n",
    "    styles = markers + [\n",
    "        r'$\\lambda$',\n",
    "        r'$\\bowtie$',\n",
    "        r'$\\Gamma$',\n",
    "        r'$\\clubsuit$',\n",
    "        r'$\\checkmark$']\n",
    "\n",
    "    colors = ('b', 'g', 'r', 'c', 'm', 'y', 'k')\n",
    "\n",
    "    plt.figure(figsize=(8,8))\n",
    "\n",
    "    axisNum = 0\n",
    "    for row in range(6):\n",
    "        for col in range(5):\n",
    "            axisNum += 1\n",
    "            ax = plt.subplot(6, 5, axisNum)\n",
    "            color = colors[axisNum % len(colors)]\n",
    "            if axisNum < len(linestyles):\n",
    "                plt.plot(t, s, linestyles[axisNum], color=color, markersize=5)\n",
    "            else:\n",
    "                style = styles[(axisNum - len(linestyles)) % len(styles)]\n",
    "                plt.plot(t, s, linestyle='None', marker=style, color=color, markersize=5)\n",
    "            ax.set_yticklabels([])\n",
    "            ax.set_xticklabels([])\n",
    "            ax.yaxis.set_ticks_position('none')\n",
    "            ax.xaxis.set_ticks_position('none')\n",
    "    if(save==False):\n",
    "        plt.show()\n",
    "    else:\n",
    "        #plt.title(\"Multiples\")\n",
    "        plt.savefig(\"multiples.png\")\n",
    "        plt.close()\n"
   ]
  },
  {
   "cell_type": "code",
   "execution_count": null,
   "metadata": {
    "collapsed": true
   },
   "outputs": [],
   "source": [
    "# plotting on top\n",
    "def PoT(save=False):\n",
    "    x = np.linspace(-1,1,500)\n",
    "    for i in range(6):\n",
    "       plt.plot(x, T.basis(i)(x), lw=2, label=\"$T_%d$\"%i)\n",
    "    plt.legend(loc=\"upper left\")\n",
    "    \n",
    "    if(save==False):\n",
    "        plt.show()\n",
    "    else:\n",
    "        plt.title(\"Plotting Chebyshev polynomials on top of each other\")\n",
    "        plt.savefig(\"PoT.png\")\n",
    "        plt.close()\n"
   ]
  },
  {
   "cell_type": "code",
   "execution_count": null,
   "metadata": {
    "collapsed": true
   },
   "outputs": [],
   "source": [
    "# plotting on top: extend boundary\n",
    "def PoT_boundary(save=False):\n",
    "    x = np.linspace(-1,1,500)\n",
    "    plt.xlim(-1.1,1.1)\n",
    "    plt.ylim(-1.1,1.1)\n",
    "\n",
    "    for i in range(6):\n",
    "       plt.plot(x, T.basis(i)(x), lw=2, label=\"$T_%d$\"%i)\n",
    "\n",
    "    plt.legend(loc=\"upper left\")\n",
    "    if(save==False):\n",
    "        plt.show()\n",
    "    else:\n",
    "        plt.title(\"Extend boundary\")\n",
    "        plt.savefig(\"PoT_extend_boundary.png\")\n",
    "        plt.close()\n"
   ]
  },
  {
   "cell_type": "code",
   "execution_count": null,
   "metadata": {
    "collapsed": true
   },
   "outputs": [],
   "source": [
    "# plotting on top: move legend\n",
    "def PoT_legend(save=False):\n",
    "    x = np.linspace(-1,1,500)\n",
    "    plt.xlim(-1.1,1.1)\n",
    "    plt.ylim(-1.1,1.1)\n",
    "\n",
    "    for i in range(6):\n",
    "       plt.plot(x, T.basis(i)(x), lw=2, label=\"$T_%d$\"%i)\n",
    "\n",
    "    ax = plt.gca()\n",
    "    ax.legend(loc='center left', bbox_to_anchor=(1, 0.5))\n",
    "    if(save==False):\n",
    "        plt.show()\n",
    "    else:\n",
    "        plt.title(\"Legend to the right\")\n",
    "        plt.savefig(\"PoT_legend.png\")\n",
    "        plt.close()\n"
   ]
  },
  {
   "cell_type": "code",
   "execution_count": null,
   "metadata": {
    "collapsed": true
   },
   "outputs": [],
   "source": [
    "# plotting separately\n",
    "def PoT_separate(save=False):\n",
    "    fig = plt.figure(dpi=100)\n",
    "    fig.set_size_inches(10,10)\n",
    "    fig.suptitle('Chebyshev polynomials', fontsize=20)\n",
    "\n",
    "    x = np.linspace(-1,1,500)\n",
    "\n",
    "    for i in range(9):\n",
    "        ax = plt.subplot(3,3,i+1)\n",
    "        ax.plot(x, T.basis(i)(x), lw=2, label=\"$T_%d$\"%i)\n",
    "        plt.xlim(-1.1,1.1)\n",
    "        plt.ylim(-1.1,1.1)\n",
    "        ax.set_title('$T_%d$'%i)\n",
    "        if i%3:\n",
    "            ax.set_yticklabels([])\n",
    "            ax.yaxis.set_ticks_position('none')\n",
    "        if i<6:\n",
    "            ax.xaxis.set_ticks_position('none')\n",
    "            ax.set_xticklabels([]) \n",
    "    if(save==False):\n",
    "        plt.show()\n",
    "    else:\n",
    "        #plt.title(\"Separate plots\")\n",
    "        plt.savefig(\"PoT_separate.png\")\n",
    "        plt.close()"
   ]
  },
  {
   "cell_type": "code",
   "execution_count": null,
   "metadata": {
    "collapsed": true
   },
   "outputs": [],
   "source": [
    "# scale matters: scatter\n",
    "def scale_scatter(save=False):\n",
    "    x = np.random.rand(100)\n",
    "    y = 2*np.random.rand(100) + x - 1\n",
    "    plt.scatter(x,y)\n",
    "    plt.xlim(0,1)\n",
    "    plt.ylim(-1,2)\n",
    "    if(save==False):\n",
    "        plt.show()\n",
    "    else:\n",
    "        plt.title(\"Zoomed-in scale\")\n",
    "        plt.savefig(\"scale_scatter_zoomed_in.png\")\n",
    "        plt.close()\n",
    "    n=4\n",
    "    plt.scatter(x,y)\n",
    "    plt.xlim(-.1,1.1)\n",
    "    plt.ylim(-n,n+1)\n",
    "    if(save==False):\n",
    "        plt.show()\n",
    "    else:\n",
    "        plt.title(\"Zoomed-out scale\")\n",
    "        plt.savefig(\"scale_scatter_zoomed_out.png\")\n",
    "        plt.close()\n"
   ]
  },
  {
   "cell_type": "code",
   "execution_count": null,
   "metadata": {
    "collapsed": true
   },
   "outputs": [],
   "source": [
    "# scale matters: line\n",
    "def scale_line(save=False):\n",
    "    x = np.linspace(0,1,200)\n",
    "    y = 100+10*np.random.rand(200)\n",
    "    plt.plot(x,y)\n",
    "    plt.xlim(-.1,1.1)\n",
    "\n",
    "    if(save==False):\n",
    "        plt.show()\n",
    "    else:\n",
    "        plt.title(\"Zoomed-in scale\")\n",
    "        plt.savefig(\"scale_line_zoomed_in.png\")\n",
    "        plt.close()\n",
    "    \n",
    "    plt.plot(x,y)\n",
    "    plt.xlim(-.1,1.1)\n",
    "    plt.ylim(0,155)\n",
    "    \n",
    "    if(save==False):\n",
    "        plt.show()\n",
    "    else:\n",
    "        plt.title(\"Zoomed-out scale\")\n",
    "        plt.savefig(\"scale_line_zoomed_out.png\")\n",
    "        plt.close()\n"
   ]
  },
  {
   "cell_type": "code",
   "execution_count": null,
   "metadata": {
    "collapsed": true
   },
   "outputs": [],
   "source": [
    "# window location\n",
    "def windowLoc(save=False):\n",
    "    x = np.linspace(0,10,500)\n",
    "    y = np.exp(-x)*x\n",
    "    plt.plot(x,y)\n",
    "    plt.xlim(0,.5)\n",
    "    plt.ylim(0,.35)\n",
    "    if(save==False):\n",
    "        plt.show()\n",
    "    else:\n",
    "        plt.title(\"Window location 1\")\n",
    "        plt.savefig(\"window_location_1.png\")\n",
    "        plt.close()\n",
    "    \n",
    "    plt.plot(x,y)\n",
    "    plt.xlim(2,4)\n",
    "    if(save==False):\n",
    "        plt.show()\n",
    "    else:\n",
    "        plt.title(\"Window location 2\")\n",
    "        plt.savefig(\"window_location_2.png\")\n",
    "        plt.close()\n",
    "    \n",
    "    plt.plot(x,y)\n",
    "    plt.xlim(0,10)\n",
    "    if(save==False):\n",
    "        plt.show()\n",
    "    else:\n",
    "        plt.title(\"Window location 3\")\n",
    "        plt.savefig(\"window_location_3.png\")\n",
    "        plt.close()\n"
   ]
  },
  {
   "cell_type": "code",
   "execution_count": 15,
   "metadata": {
    "collapsed": false
   },
   "outputs": [],
   "source": [
    "# plotting exponential graphs using log-lin\n",
    "def exponential(save=False):\n",
    "    x = np.linspace(0,3,500)\n",
    "    plt.plot(x, x**13+1)\n",
    "    plt.plot(x, x**14+1)\n",
    "    plt.ylim(1,1000)\n",
    "    if(save==False):\n",
    "        plt.show()\n",
    "    else:\n",
    "        plt.title(\"y=x**13+1, y=x**14+1\")\n",
    "        plt.savefig(\"exponential.png\")\n",
    "        plt.close()\n",
    "        \n",
    "    plt.semilogy(x, x**13+1)\n",
    "    plt.semilogy(x, x**14+1)\n",
    "    plt.ylim(1,1000)\n",
    "    if(save==False):\n",
    "        plt.show()\n",
    "    else:\n",
    "        plt.title(\"y=x**13+1, y=x**14+1 on a log-lin plot\")\n",
    "        plt.savefig(\"exponential_loglin\")\n",
    "\n",
    "exponential(True)"
   ]
  },
  {
   "cell_type": "code",
   "execution_count": 10,
   "metadata": {
    "collapsed": false
   },
   "outputs": [],
   "source": [
    "# plotting exponential graphs using log-lin\n",
    "def exponential_2(save=False):\n",
    "    x = np.linspace(0,100,500)\n",
    "\n",
    "    plt.plot(x, x**(1./13))\n",
    "    plt.plot(x, x**(1./14))\n",
    "    plt.ylim(0,2)\n",
    "    if(save==False):\n",
    "        plt.show()\n",
    "    else:\n",
    "        plt.title(\"y=x**(1/13), y=x**(1/14)\")\n",
    "        plt.savefig(\"exponential_2.png\")\n",
    "        plt.close()\n",
    "        \n",
    "    plt.semilogx(x, x**(1./13))\n",
    "    plt.semilogx(x, x**(1./14))\n",
    "    plt.ylim(0,2)\n",
    "    if(save==False):\n",
    "        plt.show()\n",
    "    else:\n",
    "        plt.title(\"y=x**13, y=x**14 on a log-lin plot\")\n",
    "        plt.savefig(\"exponential_loglin_2\")\n",
    "exponential_2()"
   ]
  },
  {
   "cell_type": "code",
   "execution_count": 26,
   "metadata": {
    "collapsed": false
   },
   "outputs": [],
   "source": [
    "def stackedbar(save=False):\n",
    "    N = 5\n",
    "    menMeans   = (20, 35, 30, 35, 27)\n",
    "    womenMeans = (25, 32, 34, 20, 25)\n",
    "    menStd     = (2, 3, 4, 1, 2)\n",
    "    womenStd   = (3, 5, 2, 3, 3)\n",
    "    ind = np.arange(N)    # the x locations for the groups\n",
    "    width = 0.35       # the width of the bars: can also be len(x) sequence\n",
    "\n",
    "    p1 = plt.bar(ind, menMeans,   width, color='r', yerr=menStd)\n",
    "    p2 = plt.bar(ind, womenMeans, width, color='y',\n",
    "                 bottom=menMeans, yerr=womenStd)\n",
    "\n",
    "    plt.ylabel('Scores')\n",
    "    plt.title('Scores by group and gender stacking')\n",
    "    plt.xticks(ind+width/2., ('G1', 'G2', 'G3', 'G4', 'G5') )\n",
    "    plt.yticks(np.arange(0,81,10))\n",
    "    plt.legend( (p1[0], p2[0]), ('Men', 'Women') )\n",
    "    \n",
    "    if(save==False):\n",
    "        plt.show()\n",
    "        \n",
    "    else:\n",
    "        plt.title(\"Scores by group and gender stacking\")\n",
    "        plt.savefig(\"stackedbar.png\")\n",
    "        \n",
    "    plt.clf()\n",
    "    p1 = plt.bar(ind, menMeans, width, color='r', yerr=menStd)    \n",
    "    p2 = plt.bar(ind+width, womenMeans, width, color='y', yerr=womenStd)\n",
    "    \n",
    "\n",
    "    plt.ylabel('Scores')\n",
    "    plt.title('Scores by group and gender side by side')\n",
    "    plt.xticks(ind+width/2., ('G1', 'G2', 'G3', 'G4', 'G5') )\n",
    "    plt.yticks(np.arange(0,81,10))\n",
    "    plt.legend( (p1[0], p2[0]), ('Men', 'Women') )\n",
    "            \n",
    "    if (save==False):\n",
    "        plt.show()\n",
    "        \n",
    "    else:\n",
    "        plt.title(\"Scores by group and gender side by side\")\n",
    "        plt.savefig(\"unstackedbar.png\")\n",
    "    plt.clf()\n",
    "stackedbar(save=True)"
   ]
  },
  {
   "cell_type": "code",
   "execution_count": null,
   "metadata": {
    "collapsed": false
   },
   "outputs": [],
   "source": [
    "def pietobar(save=False):\n",
    "    labels = 'Cello', 'Clarinet', 'Flute', 'Guitar', 'Piano', 'Saxophone', 'Violin'\n",
    "    sizes = [14,41,30,15,53,18,22]\n",
    "    plt.pie(sizes, labels=labels)\n",
    "    if (save == False):\n",
    "        plt.show()\n",
    "    else:\n",
    "        plt.savefig(\"pie_instruments.png\")\n",
    "        \n",
    "pietobar()"
   ]
  },
  {
   "cell_type": "code",
   "execution_count": 14,
   "metadata": {
    "collapsed": false
   },
   "outputs": [],
   "source": [
    "def linegraphbadx(save=False):\n",
    "    plt.clf()\n",
    "    data = {'Eggs':21,'Baked beans':10, 'Ham':20,'Lobster thermidor':11, 'Sausage':19, 'Bacon':18,'Spam':22}\n",
    "    \n",
    "    names = data.keys()\n",
    "    y = data.values()\n",
    "    \n",
    "    x = range(len(data))\n",
    "    plt.xticks(x,names)\n",
    "    plt.plot(x, y, lw = 1)\n",
    "    if (save == False):\n",
    "        plt.title(\"Line plot\")\n",
    "        plt.tight_layout()\n",
    "        plt.show()\n",
    "    else:\n",
    "        plt.title(\"Line plot\")\n",
    "        plt.tight_layout()\n",
    "        plt.savefig(\"line_plot_bad_X\")\n",
    "        plt.close()\n",
    "\n",
    "linegraphbadx(True)"
   ]
  },
  {
   "cell_type": "markdown",
   "metadata": {
    "collapsed": false
   },
   "source": [
    "if __name__ == \"__main__\":\n",
    "\n",
    "    linePlot(save=True)\n",
    "    logPlot(save=True)\n",
    "    linlinPlot(save=True)\n",
    "    barChart_vertical(save=True)\n",
    "    #dotPlot(save=False)\n",
    "    histogram(save=True)\n",
    "    histogramFancy(save=True)\n",
    "    scatterPlot(save=True)\n",
    "    dualscatterPlot(save=True)\n",
    "    contourMap(save=True)\n",
    "    contourMap_filled(save=True)\n",
    "    contourMap_rainbowFilled(save=True)\n",
    "    contourMap_rainbow(save=True)\n",
    "    hue(save=True)\n",
    "    colorValue(save=True)\n",
    "    colorMap(save=True)\n",
    "    PE_problematic_area(save=True)\n",
    "    pie3d(save=True)\n",
    "    pieChart(save=True)\n",
    "    pieChart_sorted(save=True)\n",
    "    barChart_horizontal_sorted(save=True)\n",
    "    barChart_horizontal_unsorted(save=True)\n",
    "    barChart_verticalBars_horizontalLabels(save=True)\n",
    "    barChart_verticalBars_verticalLabels(save=True)\n",
    "    multiples(save=True)\n",
    "    PoT(save=True)\n",
    "    PoT_boundary(save=True)\n",
    "    PoT_legend(save=True)\n",
    "    PoT_separate(save=True)\n",
    "    scale_scatter(save=True)\n",
    "    scale_line(save=True)\n",
    "    windowLoc(save=True)\n",
    "    exponential(save=True)\n",
    "    stackedbar(save=True)\n",
    "    pietobar(save=True)"
   ]
  },
  {
   "cell_type": "code",
   "execution_count": null,
   "metadata": {
    "collapsed": true
   },
   "outputs": [],
   "source": [
    "x = [179.2, 160.0, 177.8, 178.9, 178, 176, 172.5, 165.6, 170.8, 183.2, 182.4, 164, 163.6, 175.4, 174, 176.1, 165.7]\n",
    "y = [167.6, 142.2, 164.5, 165.3, 165, 164, 158, 154.9, 157.4, 168.4, 168, 151, 151.4, 164, 158.9, 162.1, 155.2]\n",
    "plt.scatter(x,y)\n",
    "plt.show()"
   ]
  },
  {
   "cell_type": "code",
   "execution_count": null,
   "metadata": {
    "collapsed": false
   },
   "outputs": [],
   "source": [
    "from numpy.random import normal\n",
    "numbs = normal(size=1000)\n",
    "\n",
    "plt.hist(numbs,bins=20)\n",
    "plt.show()"
   ]
  },
  {
   "cell_type": "code",
   "execution_count": null,
   "metadata": {
    "collapsed": false
   },
   "outputs": [],
   "source": []
  },
  {
   "cell_type": "code",
   "execution_count": null,
   "metadata": {
    "collapsed": false
   },
   "outputs": [],
   "source": []
  },
  {
   "cell_type": "code",
   "execution_count": null,
   "metadata": {
    "collapsed": false
   },
   "outputs": [],
   "source": []
  },
  {
   "cell_type": "code",
   "execution_count": null,
   "metadata": {
    "collapsed": false,
    "scrolled": true
   },
   "outputs": [],
   "source": []
  },
  {
   "cell_type": "code",
   "execution_count": null,
   "metadata": {
    "collapsed": true
   },
   "outputs": [],
   "source": []
  },
  {
   "cell_type": "code",
   "execution_count": null,
   "metadata": {
    "collapsed": false
   },
   "outputs": [],
   "source": []
  },
  {
   "cell_type": "code",
   "execution_count": null,
   "metadata": {
    "collapsed": true
   },
   "outputs": [],
   "source": []
  },
  {
   "cell_type": "code",
   "execution_count": null,
   "metadata": {
    "collapsed": true
   },
   "outputs": [],
   "source": []
  }
 ],
 "metadata": {
  "kernelspec": {
   "display_name": "Python 2",
   "language": "python",
   "name": "python2"
  },
  "language_info": {
   "codemirror_mode": {
    "name": "ipython",
    "version": 2
   },
   "file_extension": ".py",
   "mimetype": "text/x-python",
   "name": "python",
   "nbconvert_exporter": "python",
   "pygments_lexer": "ipython2",
   "version": "2.7.10"
  }
 },
 "nbformat": 4,
 "nbformat_minor": 0
}
