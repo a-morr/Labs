{
 "cells": [
  {
   "cell_type": "markdown",
   "metadata": {},
   "source": [
    "# Volume I: Data Visualization. Solutions File."
   ]
  },
  {
   "cell_type": "code",
   "execution_count": null,
   "metadata": {
    "collapsed": false
   },
   "outputs": [],
   "source": [
    "import numpy as np\n",
    "from scipy.stats import linregress\n",
    "from scipy.special import binom\n",
    "from matplotlib import rcParams, colors, pyplot as plt\n",
    "%matplotlib inline\n",
    "\n",
    "rcParams[\"figure.figsize\"] = (18,9)"
   ]
  },
  {
   "cell_type": "code",
   "execution_count": null,
   "metadata": {
    "collapsed": false,
    "scrolled": false
   },
   "outputs": [],
   "source": [
    "# Problem 1: Anscombe's quartet.\n",
    "\n",
    "A = np.load(\"anscombe.npy\")\n",
    "x = np.linspace(0,20,20)\n",
    "y = .5*x + 3\n",
    "for i in xrange(4):\n",
    "    plt.subplot(2,2,i+1)\n",
    "    plt.plot(A[:,2*i], A[:,2*i+1], 'o')\n",
    "    plt.plot(x,y)\n",
    "    plt.title(\"Data Set {}\".format(i+1))\n",
    "_ = plt.suptitle(\"Problem 1 Solution\", fontsize=28)"
   ]
  },
  {
   "cell_type": "markdown",
   "metadata": {},
   "source": [
    "The student plots should look almost exactly like the ones shows above, and they should write a sentence or two about each set and how it is unique.\n",
    "Sample answers might be something like the following:\n",
    "\n",
    "**Data Set 1**: Randomly scattered around the regression line. The $x$-coordinates appear uniformly distributed.\n",
    "\n",
    "**Data Set 2**: Parabolic, not linear. The $x$-values are nearly perfectly spaced.\n",
    "\n",
    "**Data Set 3**: Linear, very close to the regression line. A single vertical outlier skews the regression.\n",
    "\n",
    "**Data Set 4**: Linear. A single horizontal outlier skews the regression, but the rest of the points all have the same $x$-coordinate.\n",
    "\n",
    "_**5 Points**_"
   ]
  },
  {
   "cell_type": "code",
   "execution_count": null,
   "metadata": {
    "collapsed": false
   },
   "outputs": [],
   "source": [
    "# Problem 2: The Bernstein Polynomials.\n",
    "x = np.linspace(0, 1, 200)\n",
    "for n in range(5):\n",
    "    for v in range(n+1):\n",
    "        i = 5*n+v\n",
    "        plt.subplot(5, 5, i+1)\n",
    "        plt.plot(x, binom(n,v)*x**v*(1-x)**(n-v), lw=2)\n",
    "        plt.axis([-.1, 1.1, -.1, 1.1])\n",
    "\n",
    "        plt.tick_params(which=\"both\", top=\"off\", right=\"off\")\n",
    "        if i < 20:                  # Remove x-axis label on upper plots.\n",
    "            plt.tick_params(labelbottom=\"off\")\n",
    "        if i % 5:                   # Remove y-axis label on right plots.\n",
    "            plt.tick_params(labelleft=\"off\")\n",
    "        plt.title(r\"$b_{%s,%s}$\"%(v,n), fontsize=16)\n",
    "\n",
    "_ = plt.suptitle(\"Problem 2 Solution\", fontsize=28)"
   ]
  },
  {
   "cell_type": "markdown",
   "metadata": {},
   "source": [
    "The students should produce at least 10 clean, clearly labeled subplots, though they aren't required to be arranged in the triangular configuration displayed above.\n",
    "\n",
    "_**5 Points**_"
   ]
  },
  {
   "cell_type": "code",
   "execution_count": null,
   "metadata": {
    "collapsed": false,
    "slideshow": {
     "slide_type": "slide"
    }
   },
   "outputs": [],
   "source": [
    "# Problem 3: Visualize the MLB data.\n",
    "height, weight, age = np.load(\"MLB.npy\").T\n",
    "\n",
    "def linear_regression_line(x, y):\n",
    "    slope, intercept = linregress(x,y)[:2]\n",
    "    domain = np.linspace(x.min(), x.max(), 5)\n",
    "    plt.plot(domain, domain*slope + intercept, 'k-', lw=2)\n",
    "\n",
    "# Height vs. Weight, Age as a color.\n",
    "plt.subplot(221)\n",
    "plt.scatter(height, weight, c=age)\n",
    "cbar = plt.colorbar()\n",
    "cbar.set_label(\"Age\")\n",
    "linear_regression_line(height, weight)\n",
    "plt.xlabel(\"Height (inches)\")\n",
    "plt.ylabel(\"Weight (pounds)\")\n",
    "\n",
    "# Height vs. Weight, Age as size.\n",
    "plt.subplot(222)\n",
    "plt.scatter(height, weight, s=.5*age**2, alpha=.3)\n",
    "linear_regression_line(height, weight)\n",
    "plt.xlabel(\"Height (inches)\")\n",
    "plt.ylabel(\"Weight (pounds)\")\n",
    "\n",
    "# Age vs. Height\n",
    "plt.subplot(223)\n",
    "plt.plot(age, height, 'g.')\n",
    "linear_regression_line(age, height)\n",
    "plt.xlabel(\"Age (years)\")\n",
    "plt.ylabel(\"Height (inches)\")\n",
    "\n",
    "# Age vs. Weight\n",
    "plt.subplot(224)\n",
    "plt.plot(age, weight, 'r.')\n",
    "linear_regression_line(age, weight)\n",
    "plt.xlabel(\"Age (years)\")\n",
    "plt.ylabel(\"Weight (pounds)\")\n",
    "\n",
    "_ = plt.suptitle(\"Problem 3 Solution\", fontsize=28)"
   ]
  },
  {
   "cell_type": "markdown",
   "metadata": {},
   "source": [
    "The students should produce at least 1 plot.\n",
    "The scatter plot in the top right corner is preferable, as it plots the variables that have the most correlation together.\n",
    "However, the bottom scatter plots are at least useful for showing that age is not very correlated with height or weight in the MLB.\n",
    "\n",
    "_**5 points**_"
   ]
  },
  {
   "cell_type": "code",
   "execution_count": null,
   "metadata": {
    "collapsed": false,
    "scrolled": false
   },
   "outputs": [],
   "source": [
    "# Problem 4: Visualize the earthquake data.\n",
    "years, magnitudes, longitude, latitude = np.load(\"earthquakes.npy\").T\n",
    "\n",
    "# Line plot of earthquakes per year.\n",
    "plt.subplot(221)\n",
    "xlimits = [1999.5, 2009.5]\n",
    "counts, bin_edges = np.histogram(years, bins=10, range=xlimits)\n",
    "bin_centers = (bin_edges[:-1] + bin_edges[1:])/2.\n",
    "plt.plot(bin_centers, counts, '.-', lw=2, ms=15)\n",
    "\n",
    "# Linear regression line.\n",
    "slope, intercept = linregress(bin_centers, counts)[:2]\n",
    "plt.plot(bin_centers, bin_centers*slope + intercept, 'g')\n",
    "\n",
    "plt.xlim(xlimits)\n",
    "plt.xlabel(\"Year\")\n",
    "plt.ylabel(\"Number of Earthquakes\")\n",
    "plt.title(\"Earthquake Frequency by Year\")\n",
    "\n",
    "# Histogram of earthquake magnitudes.\n",
    "plt.subplot(222)\n",
    "xlimits = [4.5, 9.5]\n",
    "plt.hist(magnitudes, range=xlimits, bins=5, log=True, color='g', alpha=.8)\n",
    "plt.xlim(xlimits)\n",
    "plt.xlabel(\"Magnitude\")\n",
    "plt.ylabel(\"Number of Earthquakes (log scale)\")\n",
    "plt.title(\"Earthquake Frequency by Magnitude\")\n",
    "\n",
    "# Scatter plot of lattitudes versus longitudes to show where earthquakes happen.\n",
    "plt.subplot(223)\n",
    "plt.plot(longitude, latitude, 'k,')\n",
    "\n",
    "# Identify bigger earthquakes with colored dots.\n",
    "index = (8 > magnitudes) * (magnitudes > 7)\n",
    "plt.plot(longitude[index], latitude[index], 'yo', alpha=.6, ms=4, label=\"Magnitude > 7\")\n",
    "index = (9 > magnitudes) * (magnitudes > 8)\n",
    "plt.plot(longitude[index], latitude[index], 'co', alpha=.7, ms=8, label=\"Magnitude > 8\")\n",
    "index = magnitudes > 9\n",
    "plt.plot(longitude[index], latitude[index], 'ro', alpha=.8, ms=12, label=\"Magnitude > 9\")\n",
    "\n",
    "plt.ylim(ymax=120)\n",
    "plt.legend(loc=\"upper left\")\n",
    "plt.title(\"Earthquakes by Location\")\n",
    "plt.axis(\"equal\")\n",
    "\n",
    "# Bad example.\n",
    "plt.subplot(224)\n",
    "plt.plot(years, magnitudes, 'r.')\n",
    "plt.title(\"Earthquakes by Year, BAD EXAMPLE\")\n",
    "\n",
    "_ = plt.suptitle(\"Problem 4 Solution\", fontsize=28)"
   ]
  },
  {
   "cell_type": "markdown",
   "metadata": {},
   "source": [
    "The student should produce 2 or 3 plots.\n",
    "They do not have to be exactly like the ones shown above, but they should address the following questions:\n",
    "1. How many earthquakes happened every year?\n",
    "2. How often do stronger earthquakes happen compared to weaker ones?\n",
    "3. Where do earthquakes happen? Where do the strongest earthquakes happen?\n",
    "\n",
    "_**10 points**_"
   ]
  },
  {
   "cell_type": "code",
   "execution_count": null,
   "metadata": {
    "collapsed": false
   },
   "outputs": [],
   "source": [
    "# Problem 5: Heat maps of the Rosenbrock function.\n",
    "\n",
    "rosen = lambda x,y: (1.-x)**2 + 100.*(y-x**2)**2\n",
    "\n",
    "N = 500\n",
    "x = np.linspace(-2, 2, N)\n",
    "y = np.linspace(-1, 3, N)\n",
    "X, Y = np.meshgrid(x, y)\n",
    "Z = rosen(X,Y)\n",
    "\n",
    "plt.subplot(221)\n",
    "plt.pcolormesh(X, Y, Z, cmap=\"viridis\")\n",
    "plt.colorbar()\n",
    "\n",
    "plt.subplot(222)\n",
    "plt.pcolormesh(X, Y, Z, cmap=\"viridis\", norm=colors.LogNorm(vmin=1e-6))\n",
    "plt.colorbar()\n",
    "\n",
    "plt.subplot(223)\n",
    "plt.contourf(X, Y, Z, 10, cmap=\"viridis\", norm=colors.LogNorm(vmin=1e-6))\n",
    "plt.colorbar()\n",
    "\n",
    "plt.subplot(224)\n",
    "plt.contour(X, Y, Z, 10, cmap=\"viridis\", norm=colors.LogNorm(vmin=1e-6))\n",
    "plt.colorbar()\n",
    "plt.plot([1],[1],'r*', ms=10, alpha=.8)\n",
    "\n",
    "\n",
    "_ = plt.suptitle(\"Problem 5 Solution\", fontsize=28)"
   ]
  },
  {
   "cell_type": "markdown",
   "metadata": {},
   "source": [
    "The students should produce at least 1 heat map or contour plot that show that the minimum is indeed at (1,1).\n",
    "\n",
    "_**5 Points**_"
   ]
  },
  {
   "cell_type": "code",
   "execution_count": null,
   "metadata": {
    "collapsed": false
   },
   "outputs": [],
   "source": [
    "# Problem 6: Visualize the country data. Use a bar chart, a histogram, a scatter plot, and a line plot?\n",
    "countries = np.array(\n",
    "            [\"Austria\", \"Bolivia\", \"Brazil\", \"China\", \"Finland\",\n",
    "             \"Germany\", \"Hungary\", \"India\", \"Japan\", \"North Korea\",\n",
    "             \"Montenegro\", \"Norway\", \"Peru\", \"South Korea\", \"Sri Lanka\",\n",
    "             \"Switzerland\", \"Turkey\", \"United Kingdom\", \"United States\", \"Vietnam\"])\n",
    "population, gdp, male, female = np.load(\"countries.npy\").T\n",
    "\n",
    "# Scatter plots =======================================================================================================\n",
    "\n",
    "plt.subplot(221) # population vs. gdp\n",
    "plt.scatter(population, gdp, s=100)\n",
    "linear_regression_line(population, gdp)\n",
    "plt.xlabel(\"Population (millions of people)\")\n",
    "plt.ylabel(\"GDP (billions of US dollars)\")\n",
    "\n",
    "plt.subplot(222) # male vs female height\n",
    "plt.scatter(male, female, s=100)\n",
    "linear_regression_line(male, female)\n",
    "plt.xlabel(\"Average male height (centimeters)\")\n",
    "plt.ylabel(\"Average female height (centimeters)\")\n",
    "\n",
    "plt.subplot(223) # male vs female height, population size, gdp color\n",
    "plt.scatter(male, female, s=population, c=gdp, norm=colors.LogNorm(), alpha=.7)\n",
    "c_bar = plt.colorbar()\n",
    "c_bar.set_label(\"GDP (billions of US dollars)\")\n",
    "\n",
    "linear_regression_line(male, female)\n",
    "plt.xlabel(\"Average male height (centimeters)\")\n",
    "plt.ylabel(\"Average female height (centimeters)\")\n",
    "\n",
    "plt.subplot(224) # male vs female height, population size, gdp color\n",
    "plt.scatter(male, female, c=population, s=2*np.sqrt(gdp), norm=colors.LogNorm(), alpha=.7)\n",
    "c_bar = plt.colorbar()\n",
    "c_bar.set_label(\"Population (millions of people)\")\n",
    "\n",
    "linear_regression_line(male, female)\n",
    "plt.xlabel(\"Average male height (centimeters)\")\n",
    "plt.ylabel(\"Average female height (centimeters)\")\n",
    "\n",
    "_ = plt.suptitle(\"Problem 6 Solution (scatter plots)\", fontsize=28)"
   ]
  },
  {
   "cell_type": "code",
   "execution_count": null,
   "metadata": {
    "collapsed": false
   },
   "outputs": [],
   "source": [
    "# Histograms ==========================================================================================================\n",
    "\n",
    "plt.subplot(221) # Population\n",
    "plt.hist(population, 12)\n",
    "plt.xlabel(\"Population (millions of people)\")\n",
    "plt.ylabel(\"Number of countries\")\n",
    "\n",
    "plt.subplot(222) # GDP\n",
    "plt.hist(gdp, 8)\n",
    "plt.xlabel(\"GDP (billions of US dollars)\")\n",
    "plt.ylabel(\"Number of countries\")\n",
    "\n",
    "plt.subplot(223) # Male height\n",
    "plt.hist(male, 12, alpha=.5, label=\"Male\")\n",
    "plt.hist(female, 12, alpha=.5, label=\"Female\")\n",
    "plt.xlabel(\"Average height (centimeters)\")\n",
    "plt.ylabel(\"Number of countries\")\n",
    "plt.legend(loc=\"upper left\")\n",
    "\n",
    "_ = plt.suptitle(\"Problem 6 Solution (histograms)\", fontsize=28)"
   ]
  },
  {
   "cell_type": "code",
   "execution_count": null,
   "metadata": {
    "collapsed": false
   },
   "outputs": [],
   "source": [
    "# Bar Charts ==========================================================================================================\n",
    "\n",
    "plt.subplot(211) # Average male height\n",
    "positions = np.arange(len(countries))+.5\n",
    "loc = np.argsort(male)\n",
    "plt.barh(positions, male[loc], align=\"center\")\n",
    "plt.yticks(positions, countries[loc])\n",
    "plt.title(\"Average male height (centimeters)\")\n",
    "\n",
    "plt.subplot(212) # Average female height\n",
    "loc = np.argsort(female)\n",
    "plt.barh(positions, female[loc], align=\"center\")\n",
    "plt.yticks(positions, countries[loc])\n",
    "plt.title(\"Average female height (centimeters)\")\n",
    "\n",
    "_ = plt.suptitle(\"Problem 6 Solution (bar charts)\", fontsize=28)"
   ]
  },
  {
   "cell_type": "markdown",
   "metadata": {},
   "source": [
    "_**10 Points**_"
   ]
  }
 ],
 "metadata": {
  "kernelspec": {
   "display_name": "Python 2",
   "language": "python",
   "name": "python2"
  },
  "language_info": {
   "codemirror_mode": {
    "name": "ipython",
    "version": 2
   },
   "file_extension": ".py",
   "mimetype": "text/x-python",
   "name": "python",
   "nbconvert_exporter": "python",
   "pygments_lexer": "ipython2",
   "version": "2.7.12"
  }
 },
 "nbformat": 4,
 "nbformat_minor": 0
}
