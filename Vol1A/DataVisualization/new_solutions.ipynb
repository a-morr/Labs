{
 "cells": [
  {
   "cell_type": "markdown",
   "metadata": {},
   "source": [
    "# Volume I: Data Visualization. Solutions File."
   ]
  },
  {
   "cell_type": "code",
   "execution_count": null,
   "metadata": {
    "collapsed": false
   },
   "outputs": [],
   "source": [
    "import numpy as np\n",
    "from scipy.stats import linregress\n",
    "from matplotlib import rcParams, colors, pyplot as plt\n",
    "%matplotlib inline\n",
    "\n",
    "rcParams[\"figure.figsize\"] = (18,9)"
   ]
  },
  {
   "cell_type": "code",
   "execution_count": null,
   "metadata": {
    "collapsed": false,
    "scrolled": false
   },
   "outputs": [],
   "source": [
    "# Problem 1: Anscombe's quartet.\n",
    "\n",
    "A = np.load(\"anscombe.npy\")\n",
    "x = np.linspace(0,20,20)\n",
    "y = .5*x + 3\n",
    "for i in xrange(4):\n",
    "    plt.subplot(2,2,i+1)\n",
    "    plt.plot(A[:,2*i], A[:,2*i+1], 'o')\n",
    "    plt.plot(x,y)\n",
    "    plt.title(\"Data Set {}\".format(i+1))\n",
    "_ = plt.suptitle(\"Problem 1 Solution\", fontsize=28)"
   ]
  },
  {
   "cell_type": "markdown",
   "metadata": {},
   "source": [
    "The student plots should look almost exactly like the ones shows above, and they should write a sentence or two about each set and how it is unique.\n",
    "Sample answers might be something like the following:\n",
    "\n",
    "**Data Set 1**: Randomly scattered around the regression line. The $x$-coordinates appear uniformly distributed.\n",
    "\n",
    "**Data Set 2**: Parabolic, not linear. The $x$-values are nearly perfectly spaced.\n",
    "\n",
    "**Data Set 3**: Linear, very close to the regression line. A single vertical outlier skews the regression.\n",
    "\n",
    "**Data Set 4**: Linear. A single horizontal outlier skews the regression, but the rest of the points all have the same $x$-coordinate.\n",
    "\n",
    "_**5 Points**_"
   ]
  },
  {
   "cell_type": "code",
   "execution_count": null,
   "metadata": {
    "collapsed": false,
    "slideshow": {
     "slide_type": "slide"
    }
   },
   "outputs": [],
   "source": [
    "# Problem 2: Visualize the MLB data.\n",
    "height, weight, age = np.load(\"MLB.npy\").T\n",
    "\n",
    "def linear_regression_line(x, y):\n",
    "    slope, intercept = linregress(x,y)[:2]\n",
    "    domain = np.linspace(x.min(), x.max(), 20)\n",
    "    plt.plot(domain, domain*slope + intercept, 'k-')\n",
    "\n",
    "# Height vs. Weight, Age as a color.\n",
    "plt.subplot(221)\n",
    "plt.scatter(height, weight, c=age)\n",
    "cbar = plt.colorbar()\n",
    "cbar.set_label(\"Age\")\n",
    "linear_regression_line(height, weight)\n",
    "plt.xlabel(\"Height (inches)\")\n",
    "plt.ylabel(\"Weight (pounds)\")\n",
    "\n",
    "# Height vs. Weight, Age as size.\n",
    "plt.subplot(222)\n",
    "plt.scatter(height, weight, s=.5*age**2, alpha=.3)\n",
    "linear_regression_line(height, weight)\n",
    "plt.xlabel(\"Height (inches)\")\n",
    "plt.ylabel(\"Weight (pounds)\")\n",
    "\n",
    "# Age vs. Height\n",
    "plt.subplot(223)\n",
    "plt.plot(age, height, 'g.')\n",
    "linear_regression_line(age, height)\n",
    "plt.xlabel(\"Age (years)\")\n",
    "plt.ylabel(\"Height (inches)\")\n",
    "\n",
    "plt.subplot(224)\n",
    "plt.plot(age, weight, 'r.')\n",
    "linear_regression_line(age, weight)\n",
    "plt.xlabel(\"Age (years)\")\n",
    "plt.ylabel(\"Weight (pounds)\")\n",
    "\n",
    "_ = plt.suptitle(\"Problem 2 Solution\", fontsize=28)"
   ]
  },
  {
   "cell_type": "markdown",
   "metadata": {},
   "source": [
    "The students should produce at least 1 plot.\n",
    "The scatter plot in the top right corner is preferable, as it plots the variables that have the most correlation together.\n",
    "However, the bottom scatter plots are at least useful for showing that age is not very correlated with height or weight in the MLB."
   ]
  },
  {
   "cell_type": "code",
   "execution_count": null,
   "metadata": {
    "collapsed": false
   },
   "outputs": [],
   "source": [
    "# Problem 3: Visualize the earthquake data.\n",
    "years, magnitudes, longitude, latitude = np.load(\"earthquakes.npy\").T\n",
    "\n",
    "# Line plot of earthquakes per year.\n",
    "plt.subplot(221)\n",
    "xlimits = [1999.5, 2009.5]\n",
    "counts, bin_edges = np.histogram(years, bins=10, range=xlimits)\n",
    "bin_centers = (bin_edges[:-1] + bin_edges[1:])/2.\n",
    "plt.plot(bin_centers, counts, '.-', lw=2, ms=15)\n",
    "\n",
    "# Linear regression line.\n",
    "slope, intercept = linregress(bin_centers, counts)[:2]\n",
    "plt.plot(bin_centers, bin_centers*slope + intercept, 'g')\n",
    "\n",
    "plt.xlim(xlimits)\n",
    "plt.xlabel(\"Year\")\n",
    "plt.ylabel(\"Number of Earthquakes\")\n",
    "plt.title(\"Earthquake Frequency by Year\")\n",
    "\n",
    "# Histogram of earthquake magnitudes.\n",
    "plt.subplot(222)\n",
    "xlimits = [4.5, 9.5]\n",
    "plt.hist(magnitudes, range=xlimits, bins=5, log=True, color='g', alpha=.8)\n",
    "plt.xlim(xlimits)\n",
    "plt.xlabel(\"Magnitude\")\n",
    "plt.ylabel(\"Number of Earthquakes (log scale)\")\n",
    "plt.title(\"Earthquake Frequency by Magnitude\")\n",
    "\n",
    "# Scatter plot of lattitudes versus longitudes to show where earthquakes happen.\n",
    "plt.subplot(223)\n",
    "plt.plot(longitude, latitude, 'k,')\n",
    "plt.gca().set_aspect(\"equal\")\n",
    "\n",
    "# Identify bigger earthquakes with colored dots.\n",
    "index = (8 > magnitudes) * (magnitudes > 7)\n",
    "plt.plot(longitude[index], latitude[index], 'bo', alpha=.4, ms=4, label=\"Magnitude > 7\")\n",
    "index = (9 > magnitudes) * (magnitudes > 8)\n",
    "plt.plot(longitude[index], latitude[index], 'ro', alpha=.6, ms=8, label=\"Magnitude > 8\")\n",
    "index = magnitudes > 9\n",
    "plt.plot(longitude[index], latitude[index], 'co', alpha=.8, ms=12, label=\"Magnitude > 9\")\n",
    "plt.ylim(ymax=120)\n",
    "plt.legend(loc=\"upper left\")\n",
    "plt.title(\"Earthquakes by Location\")\n",
    "\n",
    "# Bad example.\n",
    "plt.subplot(224)\n",
    "plt.plot(years, magnitudes, 'r.')\n",
    "plt.title(\"Earthquakes by Year, BAD EXAMPLE\")\n",
    "\n",
    "_ = plt.suptitle(\"Problem 3 Solution\", fontsize=28)"
   ]
  },
  {
   "cell_type": "markdown",
   "metadata": {},
   "source": [
    "The student should produce 2 or 3 plots.\n",
    "They do not have to be exactly like the ones shown above, but they should address the following questions:\n",
    "1. How many earthquakes happened every year?\n",
    "2. How often do stronger earthquakes happen compared to weaker ones?\n",
    "3. Where do earthquakes happen? Where do the strongest earthquakes happen?\n",
    "\n",
    "_**10 points**_"
   ]
  },
  {
   "cell_type": "code",
   "execution_count": null,
   "metadata": {
    "collapsed": false
   },
   "outputs": [],
   "source": [
    "def rosenbrock(x,y):\n",
    "    return (1.-x)**2 + 100.*(y-x**2)**2\n",
    "\n",
    "N = 500\n",
    "x = np.linspace(-2, 2, N)\n",
    "y = np.linspace(-1, 3, N)\n",
    "X, Y = np.meshgrid(x, y)\n",
    "Z = rosenbrock(X,Y)\n",
    "\n",
    "plt.subplot(221)\n",
    "plt.pcolormesh(X, Y, Z, cmap=\"viridis\")\n",
    "plt.colorbar()\n",
    "\n",
    "plt.subplot(222)\n",
    "plt.pcolormesh(X, Y, Z, cmap=\"viridis\", norm=colors.LogNorm(vmin=1e-6))\n",
    "plt.colorbar()\n",
    "\n",
    "plt.subplot(223)\n",
    "plt.contourf(X, Y, Z, 10, cmap=\"viridis\", norm=colors.LogNorm(vmin=1e-6))\n",
    "plt.colorbar()\n",
    "\n",
    "plt.subplot(224)\n",
    "plt.contour(X, Y, rosenbrock(X,Y), 10, cmap=\"viridis\", norm=colors.LogNorm(vmin=1e-6))\n",
    "plt.colorbar()\n",
    "plt.plot([1],[1],'r*', ms=10, alpha=.8)\n",
    "\n",
    "\n",
    "_ = plt.suptitle(\"Problem 3 Solution\", fontsize=28)"
   ]
  },
  {
   "cell_type": "code",
   "execution_count": null,
   "metadata": {
    "collapsed": false
   },
   "outputs": [],
   "source": [
    "x = np.linspace(-1.5, 1.5, 200)\n",
    "y = np.linspace(-1.5, 1.5, 200)\n",
    "X, Y = np.meshgrid(x, y)\n",
    "Z = Y**2 - X**3 + X**2\n",
    "\n",
    "# plt.contourf(X, Y, Z, [-2,-1,0.0001,1,2,3,4,5], cmap=\"viridis\")\n",
    "plt.contour(X, Y, Z, [-2,-1,0.0001,1,2,3,4,5], colors=\"white\")\n",
    "plt.pcolormesh(X, Y, Z, cmap=\"viridis\")\n",
    "plt.colorbar()\n",
    "\n",
    "plt.gca().set_aspect(\"equal\")"
   ]
  },
  {
   "cell_type": "code",
   "execution_count": null,
   "metadata": {
    "collapsed": false
   },
   "outputs": [],
   "source": [
    "data = np.random.normal(loc=100, size=(2,500))\n",
    "\n",
    "plt.subplot(121)\n",
    "plt.semilogy(data[0], data[1], '.')\n",
    "\n",
    "plt.subplot(122)\n",
    "plt.plot(data[0], data[1], '.')"
   ]
  }
 ],
 "metadata": {
  "kernelspec": {
   "display_name": "Python 2",
   "language": "python",
   "name": "python2"
  },
  "language_info": {
   "codemirror_mode": {
    "name": "ipython",
    "version": 2
   },
   "file_extension": ".py",
   "mimetype": "text/x-python",
   "name": "python",
   "nbconvert_exporter": "python",
   "pygments_lexer": "ipython2",
   "version": "2.7.11"
  }
 },
 "nbformat": 4,
 "nbformat_minor": 0
}
